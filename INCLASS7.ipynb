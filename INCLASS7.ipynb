{
  "cells": [
    {
      "cell_type": "code",
      "execution_count": 83,
      "metadata": {
        "id": "Q2A8TGhKm3i5"
      },
      "outputs": [],
      "source": [
        "import openai\n",
        "import os\n",
        "import wikipedia"
      ]
    },
    {
      "cell_type": "markdown",
      "metadata": {
        "id": "7E9HEMJSX-3T"
      },
      "source": [
        "# 1.) Set up OpenAI and the enviornment\n"
      ]
    },
    {
      "cell_type": "code",
      "execution_count": 84,
      "metadata": {
        "id": "4zwwdkZDYDZN"
      },
      "outputs": [],
      "source": [
        "# DONE\n",
        "apikey = 'the key'\n"
      ]
    },
    {
      "cell_type": "markdown",
      "metadata": {},
      "source": []
    },
    {
      "cell_type": "code",
      "execution_count": 85,
      "metadata": {
        "id": "8IiKS0snlpYP"
      },
      "outputs": [],
      "source": [
        "client = openai.OpenAI(\n",
        "    api_key = openai.api_key\n",
        ")"
      ]
    },
    {
      "cell_type": "markdown",
      "metadata": {
        "id": "tOXc5_BTm9HP"
      },
      "source": [
        "# 2.) Use the wikipedia api to get a function that pulls in the text of a wikipedia page"
      ]
    },
    {
      "cell_type": "code",
      "execution_count": 86,
      "metadata": {
        "id": "-v7OYamHlrEB"
      },
      "outputs": [],
      "source": [
        "page_titles = ['Artificial Intelligence','UCLAa']\n",
        "page_title = page_titles[0]"
      ]
    },
    {
      "cell_type": "code",
      "execution_count": 87,
      "metadata": {
        "id": "TgY2FkTdmhTH"
      },
      "outputs": [],
      "source": [
        "search_results = wikipedia.search(page_title)"
      ]
    },
    {
      "cell_type": "code",
      "execution_count": 88,
      "metadata": {
        "id": "Kw5H5jMlmmS3"
      },
      "outputs": [],
      "source": [
        "page = wikipedia.page(search_results[0])\n"
      ]
    },
    {
      "cell_type": "code",
      "execution_count": 89,
      "metadata": {
        "id": "ZF3BiZyXltYO"
      },
      "outputs": [],
      "source": [
        "def get_wikipedia_content(page_title):\n",
        "    search_results = wikipedia.search(page_title)\n",
        "    page = wikipedia.page(search_results[0])\n",
        "    return (page.content)"
      ]
    },
    {
      "cell_type": "code",
      "execution_count": 90,
      "metadata": {
        "id": "Ef7yfa2jl0iZ"
      },
      "outputs": [],
      "source": [
        "content = get_wikipedia_content(page_title)"
      ]
    },
    {
      "cell_type": "markdown",
      "metadata": {
        "id": "_9aruncMmubX"
      },
      "source": [
        "# 3.) Build a chatgpt bot that will analyze the text given and try to locate any false info"
      ]
    },
    {
      "cell_type": "code",
      "execution_count": 91,
      "metadata": {
        "id": "Bmai3B6Dmw3O"
      },
      "outputs": [],
      "source": [
        "chat_completions = client.chat.completions.create(\n",
        "model = 'gpt-4',\n",
        "messages = [\n",
        "    {'role':'system','content':\"I will be giving you an article. I am looking for false information. I want to capture all potentailly false info, if there is even samll potential for it to be wrong, please return it. Please concisely list only the false information found. If there is no false information only return 'Done'.\"},\n",
        "    {'role':'user','content':content[:8180]}]\n",
        ")"
      ]
    },
    {
      "cell_type": "code",
      "execution_count": 92,
      "metadata": {
        "id": "1jI-un5PnDjg"
      },
      "outputs": [
        {
          "name": "stdout",
          "output_type": "stream",
          "text": [
            "1. \"Artificial intelligence was founded as an academic discipline in 1956.\" - It can be misleading. While the official recognition as a field occurred in 1956 at the Dartmouth conference, studies and work on the subject were ongoing prior to this. \n",
            "2. \"The field went through multiple cycles of optimism, followed by periods of disappointment and loss of funding, known as AI winter.\" - An AI winter refers to a period of reduced funding and interest in artificial intelligence research. There were two notable AI winters in 1974–80 and 1987–93 but stating that multiple cycles occurred could be misleading. \n",
            "3. \"Funding and interest vastly increased after 2012 when deep learning surpassed all previous AI techniques, and after 2017 with the transformer architecture.\" - This could be controversial because although those breakthroughs have significantly contributed to stimulating interest and funding in AI, they cannot solely be credited for the surge in funding and interest. Technological advancements as a whole and their impacts in various sectors could be a reason.\n",
            "4. \"Alan Turing was the first person to conduct substantial research in the field that he called machine intelligence.\" - This could be misleading. While Alan Turing made significant contributions to what would eventually become the field of artificial intelligence, it is false to claim that he was the first to conduct substantial research in the field.\n",
            "5. \"A Markov decision process has a transition model that describes the probability that a particular action will change the state in a particular way, and a reward function that supplies the utility of each state and the cost of each action.\" - This could be seen as false or misleading because a Markov decision process is based on the concept of Markov property where the transition probabilities are solely dependent on the current state not on the way the system arrived at its current state. It might be misleading to say that a particular action will change the state in a particular way in the context of Markov decision process. The transition probabilities are determined by the current state and chosen action, not by a particular action.\n",
            "\n"
          ]
        }
      ],
      "source": [
        "print(chat_completions.choices[0].message.content)"
      ]
    },
    {
      "cell_type": "code",
      "execution_count": 93,
      "metadata": {
        "id": "_TMKFGN4nDJ4"
      },
      "outputs": [],
      "source": [
        "def chatgpt_error_correction(text):\n",
        "    chat_completions = client.chat.completions.create(\n",
        "    model = 'gpt-4',\n",
        "    messages = [\n",
        "        {'role':'system','content':\"I will be giving you an article. I am looking for false information. I want to capture all potentailly false info, if there is even samll potential for it to be wrong, please return it. Please concisely list only the false information found. If there is no false information only return 'Done'.\"},\n",
        "        {'role':'user','content':content[:8180]}]\n",
        "    )\n",
        "    print(chat_completions.choices[0].message.content)"
      ]
    },
    {
      "cell_type": "code",
      "execution_count": null,
      "metadata": {
        "id": "6FKAJVXSoayA"
      },
      "outputs": [],
      "source": []
    },
    {
      "cell_type": "markdown",
      "metadata": {
        "id": "zPw5LyPEobmk"
      },
      "source": [
        "# 4.) Make a for loop and check a few wikipedia pages and return a report of any potentially false info via wikipedia"
      ]
    },
    {
      "cell_type": "code",
      "execution_count": 94,
      "metadata": {
        "id": "V7cuhML2ocGn"
      },
      "outputs": [],
      "source": [
        "page_titles = ['Artificial Intelligence','UCLA','Rain']"
      ]
    },
    {
      "cell_type": "code",
      "execution_count": 95,
      "metadata": {},
      "outputs": [
        {
          "name": "stdout",
          "output_type": "stream",
          "text": [
            "_______Artificial Intelligence\n",
            "1. \"Artificial intelligence was founded as an academic discipline in 1956.\" - It should be noted that while the term \"Artificial Intelligence\" was coined at the Dartmouth Conference in 1956, the concept and research into intelligent machines were already in existence.\n",
            "2. \"Funding and interest vastly increased after 2012 when deep learning surpassed all previous AI techniques, and after 2017 with the transformer architecture.\" - This implies that deep learning universally surpassed all other AI techniques after 2012, which is not accurate. While deep learning has indeed realized extraordinary successes, other techniques such as rule-based systems, evolutionary algorithms, etc. continue to be relevant and useful in certain applications.\n",
            "3. \"This led to the AI spring of the early 2020s\" - This statement assumes a universally accepted phenomenon termed \"the AI spring,\" which is not a universally defined or recognized event or period within the AI community. Also, the term presumes that AI technology has already achieved unequivocal and universal levels of success and acceptance, which can be contested.\n",
            "4. \"General intelligence (the ability to complete any task performable by a human) is among the field's long-term goals.\" This statement could be false as the goal for AI is not to be able to complete anything a human can do but to automate or assist certain specific tasks so that human effort can be reduced or optimized.\n",
            "5. \"Accurate and efficient reasoning is an unsolved problem.\" - While it's true that AI has not achieved the full capability of human reasoning, there are AI systems that can perform accurate and efficient reasoning within the context of specific tasks.\n",
            "6. \"Even humans rarely use the step-by-step deduction that early AI research could model.\" - This statement assumes the universality of human thought processes, which is not accurate. Some individuals do indeed consistently utilize step-by-step deduction.\n",
            "7. \"The general problem of simulating (or creating) intelligence has been broken into sub-problems.\" - This assumes that the field of AI agrees on a set, defined list of sub-problems, which is not accurate. Different researchers and institutions may have different perspectives on the key challenges in AI.\n",
            "8. \"A Markov decision process has a transition model that describes the probability that a particular action will change the state in a particular way, and a reward function that supplies the utility of each state and the cost of each action.\" - While the description of a Markov Decision Process (MDP) is generally accurate, it's not inherently connected to a functionality that determines the cost of each action.\n",
            "\n",
            "_______UCLA\n",
            "1. \"The University of California, Los Angeles (UCLA) is a public land-grant research university in Los Angeles, California, United States.\" - UCLA is not a land-grant university; it is actually a public research university.\n",
            "2. \"Its academic roots were established in 1881 as a normal school then known as the southern branch of the California State Normal School which later evolved into San José State University.\" - The southern branch of the California State Normal School didn’t evolve into San José State University. California State Normal School, located in San Jose, is the antecedent of San José State University.\n",
            "3. \"becoming the Southern Branch of UC in 1919, making it the second-oldest of the ten-campus University of California system after the University of California, Berkeley.\" - UCLA is not the second-oldest campus in the University of California system. It is the third oldest. The University of California, San Francisco was the second campus in the UC system, established in 1873.\n",
            "4. \"They have won 121 NCAA team championships, second only to Stanford University's 128 team titles.\" - Stanford University has won 126 NCAA team championships, not 128. \n",
            "5. \"The campus in Westwood opened to students in 1929.\" - The Westwood campus of UCLA opened in 1930, not in 1929.\n",
            "6. \"The first undergraduate classes on the new campus were held in 1929 with 5,500 students.\" – This statement is incorrect as the Westwood campus opened to students in 1930.\n",
            "7. \"UCLA was permitted to award the master's degree in 1933, and the doctorate in 1936, against continued resistance from UC Berkeley.\" – It’s not accurate that UC Berkeley had continued resistance against UCLA gaining the right to award master's and doctorate degrees.\n",
            "8. \"In 1951, UCLA was formally elevated to co-equal status with UC Berkeley, and its presiding officer Raymond B. Allen was the first chief executive to be granted the title of chancellor.\" – Raymond B. Allen was not the first chief executive of UCLA to be granted the title of chancellor. He was in the position from 1952-1959.\t\t\t\t\t\t\t\t\t\t\t\n",
            "9. \"The appointment of Franklin David Murphy to the position of Chancellor in 1960 helped spark an era of tremendous growth of facilities and faculty honors.\" - Franklin David Murphy became the Chancellor of UCLA in 1960, but the era of growth is not solely linked to his appointment. It is the result of multiple factors.\n",
            "10. \"In 2022, UCLA signed an agreement to partner with the Tongva for the caretaking and landscaping of various areas of the campus. This included land use for ceremonial events and educational workshops and outreach events.\" - There's no public record confirming an agreement between UCLA and the Tongva tribe in 2022 for the caretaking and landscaping of various areas of the campus.\n",
            "_______Rain\n",
            "1. The steam locomotive was not invented in 1802, but by George Stephenson in 1814.\n",
            "2. The actual first full-scale working railway steam locomotive was built in the United Kingdom in 1804 by the engineer Richard Trevithick.\n",
            "3. The Stockton and Darlington Railway opened in 1825, not 1824.\n",
            "4. Trains did not begin operating in Asia in the 1840s, starting in the 1850s with the introduction of the Bombay to Thane line in India.\n",
            "5. Railroads were not operating on every continent by 1900, as it was not until 1912 that the first railroad in Antarctica, the Ross Island Tramway, was established.\n",
            "6. \"Railway Mania\" occurred in Britain during the 1840s, not in 1830s.\n",
            "7. The first high-speed rail service was not the Japanese Shinkansen in 1964, but Italy's ETR 300, launched in 1952.\n",
            "8. The first run of a steam train in France was not in late 1829, but in 1832 when Marc Seguin and his brother created a steam locomotive for a railway line from Saint-Etienne to Lyon.\n",
            "9. Richard Trevithick did not power the first steam train in 1802, his first operational steam locomotive was in 1804.\n"
          ]
        }
      ],
      "source": [
        "for page_title in page_titles:\n",
        "    try:\n",
        "        print('_______'+ page_title)\n",
        "        content = get_wikipedia_content(page_title)\n",
        "        chatgpt_error_correction(content)\n",
        "    except:\n",
        "        print('ERROR')"
      ]
    },
    {
      "cell_type": "code",
      "execution_count": null,
      "metadata": {},
      "outputs": [],
      "source": []
    }
  ],
  "metadata": {
    "colab": {
      "provenance": []
    },
    "kernelspec": {
      "display_name": "Python 3",
      "name": "python3"
    },
    "language_info": {
      "codemirror_mode": {
        "name": "ipython",
        "version": 3
      },
      "file_extension": ".py",
      "mimetype": "text/x-python",
      "name": "python",
      "nbconvert_exporter": "python",
      "pygments_lexer": "ipython3",
      "version": "3.9.7"
    }
  },
  "nbformat": 4,
  "nbformat_minor": 0
}
