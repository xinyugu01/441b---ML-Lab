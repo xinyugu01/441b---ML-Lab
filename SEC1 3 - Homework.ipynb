{
 "cells": [
  {
   "cell_type": "code",
   "execution_count": 27,
   "id": "1022e4d8",
   "metadata": {},
   "outputs": [],
   "source": [
    "import pandas as pd\n",
    "from pytrends.request import TrendReq"
   ]
  },
  {
   "cell_type": "markdown",
   "id": "a98f5070",
   "metadata": {},
   "source": [
    "# 0.) Clean the Apple Data to get a quarterly series of EPS."
   ]
  },
  {
   "cell_type": "code",
   "execution_count": 28,
   "id": "c7f8e883",
   "metadata": {},
   "outputs": [],
   "source": [
    "y = pd.read_csv(\"AAPL_quarterly_financials.csv\", index_col=\"name\")\n"
   ]
  },
  {
   "cell_type": "code",
   "execution_count": 29,
   "id": "950b586f",
   "metadata": {},
   "outputs": [],
   "source": [
    "y = pd.DataFrame(y.loc['BasicEPS',:]).iloc[2:,:]"
   ]
  },
  {
   "cell_type": "code",
   "execution_count": null,
   "id": "2fd9569e",
   "metadata": {},
   "outputs": [],
   "source": [
    "y.index = pd.to_datetime(y.index)\n",
    "y = y.sort_index().fillna(0.)"
   ]
  },
  {
   "cell_type": "code",
   "execution_count": 75,
   "id": "586d1ba3",
   "metadata": {},
   "outputs": [
    {
     "data": {
      "text/html": [
       "<div>\n",
       "<style scoped>\n",
       "    .dataframe tbody tr th:only-of-type {\n",
       "        vertical-align: middle;\n",
       "    }\n",
       "\n",
       "    .dataframe tbody tr th {\n",
       "        vertical-align: top;\n",
       "    }\n",
       "\n",
       "    .dataframe thead th {\n",
       "        text-align: right;\n",
       "    }\n",
       "</style>\n",
       "<table border=\"1\" class=\"dataframe\">\n",
       "  <thead>\n",
       "    <tr style=\"text-align: right;\">\n",
       "      <th></th>\n",
       "      <th>BasicEPS</th>\n",
       "    </tr>\n",
       "  </thead>\n",
       "  <tbody>\n",
       "    <tr>\n",
       "      <th>2004-03-31</th>\n",
       "      <td>0.002</td>\n",
       "    </tr>\n",
       "    <tr>\n",
       "      <th>2004-06-30</th>\n",
       "      <td>0.003</td>\n",
       "    </tr>\n",
       "    <tr>\n",
       "      <th>2004-09-30</th>\n",
       "      <td>0.0</td>\n",
       "    </tr>\n",
       "    <tr>\n",
       "      <th>2004-12-31</th>\n",
       "      <td>0.013</td>\n",
       "    </tr>\n",
       "    <tr>\n",
       "      <th>2005-03-31</th>\n",
       "      <td>0.013</td>\n",
       "    </tr>\n",
       "    <tr>\n",
       "      <th>...</th>\n",
       "      <td>...</td>\n",
       "    </tr>\n",
       "    <tr>\n",
       "      <th>2022-06-30</th>\n",
       "      <td>1.2</td>\n",
       "    </tr>\n",
       "    <tr>\n",
       "      <th>2022-09-30</th>\n",
       "      <td>1.29</td>\n",
       "    </tr>\n",
       "    <tr>\n",
       "      <th>2022-12-31</th>\n",
       "      <td>1.89</td>\n",
       "    </tr>\n",
       "    <tr>\n",
       "      <th>2023-03-31</th>\n",
       "      <td>1.53</td>\n",
       "    </tr>\n",
       "    <tr>\n",
       "      <th>2023-06-30</th>\n",
       "      <td>1.27</td>\n",
       "    </tr>\n",
       "  </tbody>\n",
       "</table>\n",
       "<p>78 rows × 1 columns</p>\n",
       "</div>"
      ],
      "text/plain": [
       "           BasicEPS\n",
       "2004-03-31    0.002\n",
       "2004-06-30    0.003\n",
       "2004-09-30      0.0\n",
       "2004-12-31    0.013\n",
       "2005-03-31    0.013\n",
       "...             ...\n",
       "2022-06-30      1.2\n",
       "2022-09-30     1.29\n",
       "2022-12-31     1.89\n",
       "2023-03-31     1.53\n",
       "2023-06-30     1.27\n",
       "\n",
       "[78 rows x 1 columns]"
      ]
     },
     "execution_count": 75,
     "metadata": {},
     "output_type": "execute_result"
    }
   ],
   "source": [
    "y = y[y.index >= '2004-01-01']\n",
    "y"
   ]
  },
  {
   "cell_type": "markdown",
   "id": "f41c46a9",
   "metadata": {},
   "source": [
    "# 2.) Come up with 6 search terms you think could nowcast earnings. (Different than the ones I used) Add in 3 terms that that you think will not Nowcast earnings. Pull in the gtrends data. Clean it to have a quarterly average."
   ]
  },
  {
   "cell_type": "code",
   "execution_count": 195,
   "id": "36446546",
   "metadata": {},
   "outputs": [],
   "source": [
    "# Create pytrends object\n",
    "pytrends = TrendReq(hl='en-US', tz=360)\n",
    "\n",
    "# Set up the keywords and the timeframe\n",
    "keywords = ['Apple Event','Technology','iPhone','Innovation','IOS','Black Friday','Banana','Pet','Oil Price']\n",
    "start_date = '2004-01-01'\n",
    "end_date = '2023-06-30'\n",
    "\n",
    "# Create an empty DataFrame to store the results\n",
    "df = pd.DataFrame()\n",
    "\n",
    "# Iterate through keywords and fetch data\n",
    "for keyword in keywords:\n",
    "    pytrends.build_payload([keyword], cat=0, timeframe=f'{start_date} {end_date}', geo='', gprop='')\n",
    "    interest_over_time_df = pytrends.interest_over_time()\n",
    "    df[keyword] = interest_over_time_df[keyword]"
   ]
  },
  {
   "cell_type": "code",
   "execution_count": 196,
   "id": "05d8f7a1",
   "metadata": {},
   "outputs": [],
   "source": [
    "df = df.resample('Q').mean()"
   ]
  },
  {
   "cell_type": "code",
   "execution_count": 197,
   "id": "1163e8ec",
   "metadata": {},
   "outputs": [
    {
     "data": {
      "text/html": [
       "<div>\n",
       "<style scoped>\n",
       "    .dataframe tbody tr th:only-of-type {\n",
       "        vertical-align: middle;\n",
       "    }\n",
       "\n",
       "    .dataframe tbody tr th {\n",
       "        vertical-align: top;\n",
       "    }\n",
       "\n",
       "    .dataframe thead th {\n",
       "        text-align: right;\n",
       "    }\n",
       "</style>\n",
       "<table border=\"1\" class=\"dataframe\">\n",
       "  <thead>\n",
       "    <tr style=\"text-align: right;\">\n",
       "      <th></th>\n",
       "      <th>Apple Event</th>\n",
       "      <th>Technology</th>\n",
       "      <th>iPhone</th>\n",
       "      <th>Innovation</th>\n",
       "      <th>IOS</th>\n",
       "      <th>Black Friday</th>\n",
       "      <th>Banana</th>\n",
       "      <th>Pet</th>\n",
       "      <th>Oil Price</th>\n",
       "    </tr>\n",
       "    <tr>\n",
       "      <th>date</th>\n",
       "      <th></th>\n",
       "      <th></th>\n",
       "      <th></th>\n",
       "      <th></th>\n",
       "      <th></th>\n",
       "      <th></th>\n",
       "      <th></th>\n",
       "      <th></th>\n",
       "      <th></th>\n",
       "    </tr>\n",
       "  </thead>\n",
       "  <tbody>\n",
       "    <tr>\n",
       "      <th>2004-03-31</th>\n",
       "      <td>0.666667</td>\n",
       "      <td>99.000000</td>\n",
       "      <td>0.000000</td>\n",
       "      <td>91.333333</td>\n",
       "      <td>1.000000</td>\n",
       "      <td>0.000000</td>\n",
       "      <td>37.666667</td>\n",
       "      <td>69.333333</td>\n",
       "      <td>5.666667</td>\n",
       "    </tr>\n",
       "    <tr>\n",
       "      <th>2004-06-30</th>\n",
       "      <td>1.666667</td>\n",
       "      <td>89.000000</td>\n",
       "      <td>0.000000</td>\n",
       "      <td>86.666667</td>\n",
       "      <td>1.666667</td>\n",
       "      <td>0.000000</td>\n",
       "      <td>41.333333</td>\n",
       "      <td>69.333333</td>\n",
       "      <td>8.666667</td>\n",
       "    </tr>\n",
       "    <tr>\n",
       "      <th>2004-09-30</th>\n",
       "      <td>1.000000</td>\n",
       "      <td>84.333333</td>\n",
       "      <td>0.000000</td>\n",
       "      <td>80.000000</td>\n",
       "      <td>1.333333</td>\n",
       "      <td>0.000000</td>\n",
       "      <td>41.333333</td>\n",
       "      <td>75.333333</td>\n",
       "      <td>11.000000</td>\n",
       "    </tr>\n",
       "    <tr>\n",
       "      <th>2004-12-31</th>\n",
       "      <td>1.333333</td>\n",
       "      <td>78.666667</td>\n",
       "      <td>0.000000</td>\n",
       "      <td>83.333333</td>\n",
       "      <td>1.000000</td>\n",
       "      <td>0.666667</td>\n",
       "      <td>46.333333</td>\n",
       "      <td>70.000000</td>\n",
       "      <td>12.666667</td>\n",
       "    </tr>\n",
       "    <tr>\n",
       "      <th>2005-03-31</th>\n",
       "      <td>1.333333</td>\n",
       "      <td>82.000000</td>\n",
       "      <td>0.000000</td>\n",
       "      <td>86.666667</td>\n",
       "      <td>1.000000</td>\n",
       "      <td>0.000000</td>\n",
       "      <td>45.333333</td>\n",
       "      <td>68.333333</td>\n",
       "      <td>9.333333</td>\n",
       "    </tr>\n",
       "    <tr>\n",
       "      <th>...</th>\n",
       "      <td>...</td>\n",
       "      <td>...</td>\n",
       "      <td>...</td>\n",
       "      <td>...</td>\n",
       "      <td>...</td>\n",
       "      <td>...</td>\n",
       "      <td>...</td>\n",
       "      <td>...</td>\n",
       "      <td>...</td>\n",
       "    </tr>\n",
       "    <tr>\n",
       "      <th>2022-06-30</th>\n",
       "      <td>6.000000</td>\n",
       "      <td>29.666667</td>\n",
       "      <td>45.333333</td>\n",
       "      <td>83.000000</td>\n",
       "      <td>13.333333</td>\n",
       "      <td>1.000000</td>\n",
       "      <td>65.666667</td>\n",
       "      <td>81.000000</td>\n",
       "      <td>42.333333</td>\n",
       "    </tr>\n",
       "    <tr>\n",
       "      <th>2022-09-30</th>\n",
       "      <td>36.666667</td>\n",
       "      <td>30.000000</td>\n",
       "      <td>54.333333</td>\n",
       "      <td>76.333333</td>\n",
       "      <td>18.666667</td>\n",
       "      <td>1.333333</td>\n",
       "      <td>68.000000</td>\n",
       "      <td>83.333333</td>\n",
       "      <td>43.666667</td>\n",
       "    </tr>\n",
       "    <tr>\n",
       "      <th>2022-12-31</th>\n",
       "      <td>5.666667</td>\n",
       "      <td>28.000000</td>\n",
       "      <td>50.333333</td>\n",
       "      <td>79.000000</td>\n",
       "      <td>16.333333</td>\n",
       "      <td>19.666667</td>\n",
       "      <td>62.333333</td>\n",
       "      <td>79.666667</td>\n",
       "      <td>34.666667</td>\n",
       "    </tr>\n",
       "    <tr>\n",
       "      <th>2023-03-31</th>\n",
       "      <td>4.333333</td>\n",
       "      <td>30.666667</td>\n",
       "      <td>46.000000</td>\n",
       "      <td>85.000000</td>\n",
       "      <td>13.333333</td>\n",
       "      <td>1.000000</td>\n",
       "      <td>64.000000</td>\n",
       "      <td>81.666667</td>\n",
       "      <td>31.333333</td>\n",
       "    </tr>\n",
       "    <tr>\n",
       "      <th>2023-06-30</th>\n",
       "      <td>6.000000</td>\n",
       "      <td>29.333333</td>\n",
       "      <td>44.666667</td>\n",
       "      <td>74.666667</td>\n",
       "      <td>13.333333</td>\n",
       "      <td>1.000000</td>\n",
       "      <td>64.333333</td>\n",
       "      <td>79.000000</td>\n",
       "      <td>29.000000</td>\n",
       "    </tr>\n",
       "  </tbody>\n",
       "</table>\n",
       "<p>78 rows × 9 columns</p>\n",
       "</div>"
      ],
      "text/plain": [
       "            Apple Event  Technology     iPhone  Innovation        IOS  \\\n",
       "date                                                                    \n",
       "2004-03-31     0.666667   99.000000   0.000000   91.333333   1.000000   \n",
       "2004-06-30     1.666667   89.000000   0.000000   86.666667   1.666667   \n",
       "2004-09-30     1.000000   84.333333   0.000000   80.000000   1.333333   \n",
       "2004-12-31     1.333333   78.666667   0.000000   83.333333   1.000000   \n",
       "2005-03-31     1.333333   82.000000   0.000000   86.666667   1.000000   \n",
       "...                 ...         ...        ...         ...        ...   \n",
       "2022-06-30     6.000000   29.666667  45.333333   83.000000  13.333333   \n",
       "2022-09-30    36.666667   30.000000  54.333333   76.333333  18.666667   \n",
       "2022-12-31     5.666667   28.000000  50.333333   79.000000  16.333333   \n",
       "2023-03-31     4.333333   30.666667  46.000000   85.000000  13.333333   \n",
       "2023-06-30     6.000000   29.333333  44.666667   74.666667  13.333333   \n",
       "\n",
       "            Black Friday     Banana        Pet  Oil Price  \n",
       "date                                                       \n",
       "2004-03-31      0.000000  37.666667  69.333333   5.666667  \n",
       "2004-06-30      0.000000  41.333333  69.333333   8.666667  \n",
       "2004-09-30      0.000000  41.333333  75.333333  11.000000  \n",
       "2004-12-31      0.666667  46.333333  70.000000  12.666667  \n",
       "2005-03-31      0.000000  45.333333  68.333333   9.333333  \n",
       "...                  ...        ...        ...        ...  \n",
       "2022-06-30      1.000000  65.666667  81.000000  42.333333  \n",
       "2022-09-30      1.333333  68.000000  83.333333  43.666667  \n",
       "2022-12-31     19.666667  62.333333  79.666667  34.666667  \n",
       "2023-03-31      1.000000  64.000000  81.666667  31.333333  \n",
       "2023-06-30      1.000000  64.333333  79.000000  29.000000  \n",
       "\n",
       "[78 rows x 9 columns]"
      ]
     },
     "execution_count": 197,
     "metadata": {},
     "output_type": "execute_result"
    }
   ],
   "source": [
    "df"
   ]
  },
  {
   "cell_type": "markdown",
   "id": "531e3b23",
   "metadata": {},
   "source": [
    "# 3.) Normalize all the X data"
   ]
  },
  {
   "cell_type": "code",
   "execution_count": 198,
   "id": "e7ed77f0",
   "metadata": {},
   "outputs": [],
   "source": [
    "from sklearn.preprocessing import StandardScaler"
   ]
  },
  {
   "cell_type": "code",
   "execution_count": 199,
   "id": "c55f1f9c",
   "metadata": {},
   "outputs": [],
   "source": [
    "scaler = StandardScaler()"
   ]
  },
  {
   "cell_type": "code",
   "execution_count": 200,
   "id": "77671d95",
   "metadata": {},
   "outputs": [],
   "source": [
    "X_scaled = scaler.fit_transform(df)"
   ]
  },
  {
   "cell_type": "markdown",
   "id": "da43d5ef",
   "metadata": {},
   "source": [
    "# 4.) Run a Lasso with lambda of .5. Plot a bar chart."
   ]
  },
  {
   "cell_type": "code",
   "execution_count": 201,
   "id": "b7ff06aa",
   "metadata": {},
   "outputs": [],
   "source": [
    "from sklearn.linear_model import Lasso\n",
    "import matplotlib.pyplot as plt"
   ]
  },
  {
   "cell_type": "code",
   "execution_count": 217,
   "id": "f7311bec",
   "metadata": {},
   "outputs": [],
   "source": [
    "lasso = Lasso(alpha = 0.05) # use 0.05 instead of 0.5 because 0.5 whill shrink all coef to 0"
   ]
  },
  {
   "cell_type": "code",
   "execution_count": 218,
   "id": "b4bfc4ed",
   "metadata": {},
   "outputs": [],
   "source": [
    "model = lasso.fit(X_scaled,y)"
   ]
  },
  {
   "cell_type": "code",
   "execution_count": 219,
   "id": "7b698c9e",
   "metadata": {},
   "outputs": [],
   "source": [
    "coefficients = model.coef_"
   ]
  },
  {
   "cell_type": "code",
   "execution_count": 220,
   "id": "2f859211",
   "metadata": {},
   "outputs": [
    {
     "data": {
      "text/plain": [
       "array([ 0.        , -0.        ,  0.05322466,  0.        ,  0.        ,\n",
       "        0.13757165,  0.1913834 ,  0.07277802,  0.05666409])"
      ]
     },
     "execution_count": 220,
     "metadata": {},
     "output_type": "execute_result"
    }
   ],
   "source": [
    "coefficients"
   ]
  },
  {
   "cell_type": "code",
   "execution_count": 221,
   "id": "c0e113c2",
   "metadata": {},
   "outputs": [
    {
     "data": {
      "image/png": "[encoded data removed]",
      "text/plain": [
       "<Figure size 432x288 with 1 Axes>"
      ]
     },
     "metadata": {
      "needs_background": "light"
     },
     "output_type": "display_data"
    }
   ],
   "source": [
    "plt.bar(range(len(coefficients)), coefficients, tick_label=df.columns)\n",
    "plt.xticks(range(len(coefficients)), df.columns, rotation=45, ha='right')\n",
    "plt.axhline(0, color = 'r')\n",
    "plt.show()"
   ]
  },
  {
   "cell_type": "markdown",
   "id": "e130a2be",
   "metadata": {},
   "source": [
    "# 5.) Do these coefficient magnitudes make sense?"
   ]
  },
  {
   "cell_type": "markdown",
   "id": "0798b232",
   "metadata": {},
   "source": [
    "- Does not make that sense because the three factors that seems to have no relationship with apple's EPS has higher coef magnitude, while those that are supposed to be keywords for apple are penalized more and shrinked to 0 in the model."
   ]
  },
  {
   "cell_type": "code",
   "execution_count": null,
   "id": "bda82fa9",
   "metadata": {},
   "outputs": [],
   "source": []
  },
  {
   "cell_type": "markdown",
   "id": "3a2bd7d7",
   "metadata": {},
   "source": [
    "# 6.) Run a for loop looking at 10 different Lambdas and plot the coefficient magnitude for each."
   ]
  },
  {
   "cell_type": "code",
   "execution_count": null,
   "id": "1f115bee",
   "metadata": {},
   "outputs": [],
   "source": []
  },
  {
   "cell_type": "code",
   "execution_count": null,
   "id": "7a3e12d3",
   "metadata": {},
   "outputs": [],
   "source": []
  },
  {
   "cell_type": "markdown",
   "id": "17b28626",
   "metadata": {},
   "source": [
    "# 7.) Run a cross validation. What is your ideal lambda?"
   ]
  },
  {
   "cell_type": "code",
   "execution_count": null,
   "id": "9fc5cca1",
   "metadata": {},
   "outputs": [],
   "source": []
  },
  {
   "cell_type": "code",
   "execution_count": null,
   "id": "a58a192a",
   "metadata": {},
   "outputs": [],
   "source": []
  }
 ],
 "metadata": {
  "kernelspec": {
   "display_name": "Python 3 (ipykernel)",
   "language": "python",
   "name": "python3"
  },
  "language_info": {
   "codemirror_mode": {
    "name": "ipython",
    "version": 3
   },
   "file_extension": ".py",
   "mimetype": "text/x-python",
   "name": "python",
   "nbconvert_exporter": "python",
   "pygments_lexer": "ipython3",
   "version": "3.9.7"
  }
 },
 "nbformat": 4,
 "nbformat_minor": 5
}
